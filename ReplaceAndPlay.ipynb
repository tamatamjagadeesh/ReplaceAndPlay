{
 "cells": [
  {
   "cell_type": "markdown",
   "id": "4d5837d5-e7f2-44e9-bb82-dd31ae41fbd0",
   "metadata": {},
   "source": [
    "# ReplaceAndPlay"
   ]
  },
  {
   "cell_type": "markdown",
   "id": "1ba39173-da75-4413-b448-7c2ff2cc28d3",
   "metadata": {},
   "source": [
    "# Position Replace Game\n",
    "\n",
    "This is a simple Python game where the user picks a position in a list (0, 1, or 2) and replaces the current value with a new string. The game continues until the user decides to stop.\n",
    "\n",
    "## How the Game Works:\n",
    "\n",
    "1. The user is shown the current list of three elements (initially `[0, 1, 2]`).\n",
    "2. The user selects a position (0, 1, or 2) to replace.\n",
    "3. The user inputs a string to replace the value at the chosen position.\n",
    "4. The updated list is displayed.\n",
    "5. The user is asked whether they want to keep playing.\n",
    "6. If the user chooses \"Y\" (Yes), the game repeats; if \"N\" (No), the game ends."
   ]
  },
  {
   "cell_type": "code",
   "execution_count": 69,
   "id": "1944cd5e-9aac-471e-a21a-746218a9b714",
   "metadata": {},
   "outputs": [],
   "source": [
    "game_list=[0,1,2]"
   ]
  },
  {
   "cell_type": "code",
   "execution_count": 3,
   "id": "4aaa05df-c4cf-4503-8756-8c381ab29dee",
   "metadata": {},
   "outputs": [],
   "source": [
    "def display_game(game_list):\n",
    "    print(\"Here is the current list\")\n",
    "    print(game_list)"
   ]
  },
  {
   "cell_type": "code",
   "execution_count": 5,
   "id": "f66c981f-afb2-4b46-973a-95b803894f71",
   "metadata": {},
   "outputs": [
    {
     "name": "stdout",
     "output_type": "stream",
     "text": [
      "Here is the current list\n",
      "[0, 1, 2]\n"
     ]
    }
   ],
   "source": [
    "display_game(game_list)"
   ]
  },
  {
   "cell_type": "code",
   "execution_count": 11,
   "id": "d834df36-88df-4d87-8b79-f06558ec9aeb",
   "metadata": {},
   "outputs": [],
   "source": [
    "def pick_position():\n",
    "    choice = 'Wrong'\n",
    "    while choice not in ['0','1','2']:\n",
    "        choice = input(\"Pickup the position in (0 , 1 ,2)\")\n",
    "        if choice not in ['0','1','2']:\n",
    "            print(\"Sorry,Invalid choice\")\n",
    "    return int(choice)"
   ]
  },
  {
   "cell_type": "code",
   "execution_count": 13,
   "id": "aa96e2d6-19c3-4844-a793-f6a6291d3cd7",
   "metadata": {},
   "outputs": [
    {
     "name": "stdin",
     "output_type": "stream",
     "text": [
      "Pickup the position in (0 , 1 ,2) 4\n"
     ]
    },
    {
     "name": "stdout",
     "output_type": "stream",
     "text": [
      "Sorry,Invalid choice\n"
     ]
    },
    {
     "name": "stdin",
     "output_type": "stream",
     "text": [
      "Pickup the position in (0 , 1 ,2) 1\n"
     ]
    },
    {
     "data": {
      "text/plain": [
       "1"
      ]
     },
     "execution_count": 13,
     "metadata": {},
     "output_type": "execute_result"
    }
   ],
   "source": [
    "pick_position()"
   ]
  },
  {
   "cell_type": "code",
   "execution_count": 25,
   "id": "0ca82111-58ae-4b87-988d-ab59809c40c8",
   "metadata": {},
   "outputs": [],
   "source": [
    "def position_replacemet(game_list,position):\n",
    "    user_replacement = input(\"Enter the string to replace\")\n",
    "    game_list[position] = user_replacement\n",
    "    return game_list"
   ]
  },
  {
   "cell_type": "code",
   "execution_count": 29,
   "id": "1c9435d8-6998-47bd-8ae1-4b691d2125bb",
   "metadata": {},
   "outputs": [
    {
     "name": "stdin",
     "output_type": "stream",
     "text": [
      "Enter the string to replace hi\n"
     ]
    },
    {
     "data": {
      "text/plain": [
       "[0, 'hi', 2]"
      ]
     },
     "execution_count": 29,
     "metadata": {},
     "output_type": "execute_result"
    }
   ],
   "source": [
    "position_replacemet(game_list,1)"
   ]
  },
  {
   "cell_type": "code",
   "execution_count": 61,
   "id": "81b494c1-5864-4970-9418-72ec2ba5f674",
   "metadata": {},
   "outputs": [],
   "source": [
    "def gameon_choice():\n",
    "\n",
    "    choice = 'wrong'\n",
    "    while choice not in ['Y','N']:\n",
    "        choice = input(\"Keep playing ? (Y/N)\")\n",
    "        if choice not in ['Y','N']:\n",
    "            print(\"Invalid choise\")\n",
    "    if choice == \"Y\":\n",
    "        return True\n",
    "    else:\n",
    "        return False"
   ]
  },
  {
   "cell_type": "code",
   "execution_count": 63,
   "id": "545e54e3-6527-4cba-8d41-800eea165ad4",
   "metadata": {},
   "outputs": [
    {
     "name": "stdin",
     "output_type": "stream",
     "text": [
      "Keep playing ? (Y/N) Y\n"
     ]
    },
    {
     "data": {
      "text/plain": [
       "True"
      ]
     },
     "execution_count": 63,
     "metadata": {},
     "output_type": "execute_result"
    }
   ],
   "source": [
    "gameon_choice()"
   ]
  },
  {
   "cell_type": "code",
   "execution_count": 67,
   "id": "9000580b-4bf9-42d0-b6ac-bb8a1df9264b",
   "metadata": {},
   "outputs": [
    {
     "name": "stdout",
     "output_type": "stream",
     "text": [
      "Here is the current list\n",
      "[0, 1, 2]\n"
     ]
    },
    {
     "name": "stdin",
     "output_type": "stream",
     "text": [
      "Pickup the position in (0 , 1 ,2) 1\n",
      "Enter the string to replace Ok\n"
     ]
    },
    {
     "name": "stdout",
     "output_type": "stream",
     "text": [
      "Here is the current list\n",
      "[0, 'Ok', 2]\n"
     ]
    },
    {
     "name": "stdin",
     "output_type": "stream",
     "text": [
      "Keep playing ? (Y/N) Y\n"
     ]
    },
    {
     "name": "stdout",
     "output_type": "stream",
     "text": [
      "Here is the current list\n",
      "[0, 'Ok', 2]\n"
     ]
    },
    {
     "name": "stdin",
     "output_type": "stream",
     "text": [
      "Pickup the position in (0 , 1 ,2) 0\n",
      "Enter the string to replace Python\n"
     ]
    },
    {
     "name": "stdout",
     "output_type": "stream",
     "text": [
      "Here is the current list\n",
      "['Python', 'Ok', 2]\n"
     ]
    },
    {
     "name": "stdin",
     "output_type": "stream",
     "text": [
      "Keep playing ? (Y/N) Y\n"
     ]
    },
    {
     "name": "stdout",
     "output_type": "stream",
     "text": [
      "Here is the current list\n",
      "['Python', 'Ok', 2]\n"
     ]
    },
    {
     "name": "stdin",
     "output_type": "stream",
     "text": [
      "Pickup the position in (0 , 1 ,2) 2\n",
      "Enter the string to replace or not\n"
     ]
    },
    {
     "name": "stdout",
     "output_type": "stream",
     "text": [
      "Here is the current list\n",
      "['Python', 'Ok', 'or not']\n"
     ]
    },
    {
     "name": "stdin",
     "output_type": "stream",
     "text": [
      "Keep playing ? (Y/N) N\n"
     ]
    }
   ],
   "source": [
    "game_on = True\n",
    "game_list=[0,1,2]\n",
    "\n",
    "\n",
    "while game_on:\n",
    "    display_game(game_list)\n",
    "    position=pick_position()\n",
    "    game_lsit=position_replacemet(game_list,position)\n",
    "    display_game(game_list)\n",
    "    game_on = gameon_choice()"
   ]
  }
 ],
 "metadata": {
  "kernelspec": {
   "display_name": "Python 3 (ipykernel)",
   "language": "python",
   "name": "python3"
  },
  "language_info": {
   "codemirror_mode": {
    "name": "ipython",
    "version": 3
   },
   "file_extension": ".py",
   "mimetype": "text/x-python",
   "name": "python",
   "nbconvert_exporter": "python",
   "pygments_lexer": "ipython3",
   "version": "3.11.7"
  }
 },
 "nbformat": 4,
 "nbformat_minor": 5
}
